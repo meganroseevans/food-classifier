{
 "cells": [
  {
   "cell_type": "code",
   "execution_count": null,
   "id": "ecd9d6fa",
   "metadata": {},
   "outputs": [],
   "source": [
    "!pip install --quiet \\\n",
    "    fastai==2.5.2"
   ]
  },
  {
   "cell_type": "code",
   "execution_count": null,
   "id": "4314cea0",
   "metadata": {},
   "outputs": [],
   "source": [
    "from fastai.vision import *\n",
    "from fastai.vision.all import * \n",
    "from fastai.learner import *\n",
    "from fastai.learner import load_learner\n",
    "import pandas as pd\n",
    "import numpy as np\n",
    "import PIL\n",
    "import matplotlib.pyplot as plt\n",
    "from datetime import datetime"
   ]
  },
  {
   "cell_type": "markdown",
   "id": "065dbd77",
   "metadata": {},
   "source": [
    "# Env Vars inc YAML Config"
   ]
  },
  {
   "cell_type": "code",
   "execution_count": null,
   "id": "464476d3",
   "metadata": {},
   "outputs": [],
   "source": [
    "# Import variables from `room-quality-config.yaml`. Note: `room-quality-config.yaml`` must be in the same folder as the notebook you are running\n",
    "config = yaml.safe_load(open(\"food-classification-config.yaml\")) # load yaml into dictionary"
   ]
  },
  {
   "cell_type": "code",
   "execution_count": null,
   "id": "a81bb3a3",
   "metadata": {},
   "outputs": [],
   "source": [
    "config"
   ]
  },
  {
   "cell_type": "code",
   "execution_count": null,
   "id": "20ea4cea",
   "metadata": {},
   "outputs": [],
   "source": [
    "# create our variables from the yaml config\n",
    "\n",
    "ROOT_DIR = config.get('root_dir')\n",
    "BATCH_SIZE = config.get('batch_size')\n",
    "RANDOM_SEED = config.get('random_seed')\n",
    "MODEL_DIR = config.get('model_dir')\n",
    "MODEL_FILE_NAME = config.get('model_file_name')\n",
    "INPUT_IMAGES_FOLDER = config.get('input_images_folder')\n",
    "IMAGE_RESIZE_WIDTH = config.get('image_resize_width')\n",
    "IMAGE_RESIZE_HEIGHT = config.get('image_resize_height')\n",
    "RESIZED_IMAGE_DIR = f'{INPUT_IMAGES_FOLDER}/resized-{IMAGE_RESIZE_WIDTH}x{IMAGE_RESIZE_HEIGHT}'"
   ]
  },
  {
   "cell_type": "code",
   "execution_count": null,
   "id": "2cbfc307",
   "metadata": {},
   "outputs": [],
   "source": [
    "# make our resized image directory\n",
    "\n",
    "!mkdir -p {RESIZED_IMAGE_DIR}"
   ]
  },
  {
   "cell_type": "code",
   "execution_count": null,
   "id": "f3b2905a",
   "metadata": {},
   "outputs": [],
   "source": [
    "# timestamp for versioning model outputs\n",
    "\n",
    "TIMESTAMP = datetime.now().strftime(\"%Y%m%d_%H%M\")\n",
    "print(TIMESTAMP)"
   ]
  },
  {
   "cell_type": "markdown",
   "id": "4516cd3b",
   "metadata": {},
   "source": [
    "### Get Images for Predictions"
   ]
  },
  {
   "cell_type": "code",
   "execution_count": null,
   "id": "175d3643",
   "metadata": {},
   "outputs": [],
   "source": [
    "# get list of images to score\n",
    "\n",
    "input_imagery = get_image_files(INPUT_IMAGES_FOLDER)"
   ]
  },
  {
   "cell_type": "code",
   "execution_count": null,
   "id": "fdd08e44",
   "metadata": {},
   "outputs": [],
   "source": [
    "def resize_images(test_images):\n",
    "    for i in input_imagery:\n",
    "        image_open = PIL.Image.open(i)\n",
    "        width, height = image_open.size\n",
    "        if width != IMAGE_RESIZE_WIDTH or height != IMAGE_RESIZE_HEIGHT:\n",
    "            resized_image = image_open.resize((IMAGE_RESIZE_WIDTH, IMAGE_RESIZE_HEIGHT), 0)\n",
    "            resized_path = f'{RESIZED_IMAGE_DIR}/{i.name}'\n",
    "            resized_image.convert('RGB').save(resized_path, format='JPEG')"
   ]
  },
  {
   "cell_type": "code",
   "execution_count": null,
   "id": "90c8ff2b",
   "metadata": {},
   "outputs": [],
   "source": [
    "resize_images(input_imagery)"
   ]
  },
  {
   "cell_type": "code",
   "execution_count": null,
   "id": "a3cd2712",
   "metadata": {},
   "outputs": [],
   "source": [
    "# get paths of resized images for feeding into model\n",
    "\n",
    "resized_imagery = get_image_files(RESIZED_IMAGE_DIR)"
   ]
  },
  {
   "cell_type": "code",
   "execution_count": null,
   "id": "128da47f",
   "metadata": {},
   "outputs": [],
   "source": [
    "resized_imagery[:5]"
   ]
  },
  {
   "cell_type": "markdown",
   "id": "d327fe50",
   "metadata": {},
   "source": [
    "### Predict on single image to test"
   ]
  },
  {
   "cell_type": "code",
   "execution_count": null,
   "id": "f287f0d1",
   "metadata": {},
   "outputs": [],
   "source": [
    "# load our pkl file\n",
    "\n",
    "food_classifier_learn = load_learner(f\"{MODEL_DIR}/{MODEL_FILE_NAME}\")"
   ]
  },
  {
   "cell_type": "code",
   "execution_count": null,
   "id": "14a456c8",
   "metadata": {},
   "outputs": [],
   "source": [
    "EXAMPLE_IMAGE = f'{RESIZED_IMAGE_DIR}/{input_imagery[0].name}'\n",
    "print(EXAMPLE_IMAGE)"
   ]
  },
  {
   "cell_type": "code",
   "execution_count": null,
   "id": "9a5cbcd2",
   "metadata": {},
   "outputs": [],
   "source": [
    "plt.imshow(np.array(PIL.Image.open(EXAMPLE_IMAGE)))"
   ]
  },
  {
   "cell_type": "code",
   "execution_count": null,
   "id": "ed2d8ed0",
   "metadata": {},
   "outputs": [],
   "source": [
    "food_classifier_learn.predict(EXAMPLE_IMAGE)"
   ]
  },
  {
   "cell_type": "markdown",
   "id": "3d65131f",
   "metadata": {},
   "source": [
    "### Predict room type of all images in ROOM_TYPE_RESIZED_DIR"
   ]
  },
  {
   "cell_type": "code",
   "execution_count": null,
   "id": "f9373064",
   "metadata": {},
   "outputs": [],
   "source": [
    "# load data for predictions from the resized_imagery paths\n",
    "image_filename_pattern = r'/.*(jpg)$'\n",
    "food_classifier_dls = ImageDataLoaders.from_path_re(path='', \n",
    "                                               fnames=resized_imagery, \n",
    "                                               pat=image_filename_pattern, \n",
    "                                               bs=BATCH_SIZE, \n",
    "                                               valid_pct=0, \n",
    "                                               shuffle=False)  # see comment two cells down for valid_pct=0 rationale"
   ]
  },
  {
   "cell_type": "code",
   "execution_count": null,
   "id": "270fced8",
   "metadata": {},
   "outputs": [],
   "source": [
    "# check number of images, validation should be 0\n",
    "len(food_classifier_dls.train_ds), len(food_classifier_dls.valid_ds)"
   ]
  },
  {
   "cell_type": "code",
   "execution_count": null,
   "id": "ef6a8469",
   "metadata": {},
   "outputs": [],
   "source": [
    "# get our predictions\n",
    "food_classifier_dl = food_classifier_learn.dls.test_dl(food_classifier_dls[0].items)\n",
    "food_classifier_preds = food_classifier_learn.get_preds(dl=food_classifier_dl, with_decoded=True, reorder=False)"
   ]
  },
  {
   "cell_type": "code",
   "execution_count": null,
   "id": "5a98b6a0",
   "metadata": {},
   "outputs": [],
   "source": [
    "# recreate list of image paths - can't use resized_imagery here as order may have changed in predictions\n",
    "image_paths = [str(path) for path in food_classifier_dl.items]"
   ]
  },
  {
   "cell_type": "code",
   "execution_count": null,
   "id": "7c534cc9",
   "metadata": {},
   "outputs": [],
   "source": [
    "# extract prediction with probability from predictions output\n",
    "food_classifier_label_indices = food_classifier_preds[2].tolist()\n",
    "food_classifier_labels = [food_classifier_learn.dls.vocab[idx] for idx in food_classifier_label_indices]\n",
    "food_classifier_images = food_classifier_preds[0].tolist()\n",
    "food_classifier_probs = [probs_for_one_image[label_idx] for probs_for_one_image, label_idx in zip(food_classifier_images, food_classifier_label_indices)]"
   ]
  },
  {
   "cell_type": "code",
   "execution_count": null,
   "id": "6da69e71",
   "metadata": {},
   "outputs": [],
   "source": [
    "# build table of images & predictions\n",
    "image_preds = pd.DataFrame({\"image\": image_paths, \"pred\": food_classifier_labels, \"prob\": food_classifier_probs})"
   ]
  },
  {
   "cell_type": "code",
   "execution_count": null,
   "id": "8f23b12b",
   "metadata": {},
   "outputs": [],
   "source": [
    "# check out our preds!\n",
    "image_preds"
   ]
  }
 ],
 "metadata": {
  "kernelspec": {
   "display_name": "Python 3 (ipykernel)",
   "language": "python",
   "name": "python3"
  },
  "language_info": {
   "codemirror_mode": {
    "name": "ipython",
    "version": 3
   },
   "file_extension": ".py",
   "mimetype": "text/x-python",
   "name": "python",
   "nbconvert_exporter": "python",
   "pygments_lexer": "ipython3",
   "version": "3.9.7"
  }
 },
 "nbformat": 4,
 "nbformat_minor": 5
}
